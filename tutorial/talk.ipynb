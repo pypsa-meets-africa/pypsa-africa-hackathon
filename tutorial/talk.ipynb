{
 "cells": [
  {
   "cell_type": "markdown",
   "metadata": {},
   "source": [
    "# Introduction to GitHub\n",
    "\n",
    "#### We will cover\n",
    "\n",
    "1. Overview to GitHub\n",
    "2. Basic pull-push workflow\n",
    "3. Advanced workflow: 5 steps of code contribution\n",
    "4. Hands-on test of workflow"
   ]
  },
  {
   "cell_type": "markdown",
   "metadata": {},
   "source": [
    "## Prerequisites"
   ]
  },
  {
   "cell_type": "markdown",
   "metadata": {},
   "source": [
    "- Local installation of [git](https://git-scm.com/downloads)\n",
    "- Account on [github](https://github.com/)\n",
    "- Authentication set up on [github](https://docs.github.com/en/authentication/managing-commit-signature-verification)\n"
   ]
  },
  {
   "cell_type": "markdown",
   "metadata": {},
   "source": [
    "## 1. Overview to GitHub"
   ]
  },
  {
   "cell_type": "markdown",
   "metadata": {},
   "source": [
    "<img src=\"images/wiki.PNG\" alt=\"drawing\" width=\"1000\"/>\n"
   ]
  },
  {
   "cell_type": "markdown",
   "metadata": {},
   "source": [
    "### Why?"
   ]
  },
  {
   "cell_type": "markdown",
   "metadata": {},
   "source": [
    "<img src=\"images/branching.PNG\" alt=\"drawing\" width=\"500\"/>\n"
   ]
  },
  {
   "cell_type": "markdown",
   "metadata": {},
   "source": [
    "### In practice:"
   ]
  },
  {
   "cell_type": "markdown",
   "metadata": {},
   "source": [
    "<img src=\"images/pypsa-branches.PNG\" alt=\"drawing\" width=\"800\"/>"
   ]
  },
  {
   "cell_type": "markdown",
   "metadata": {},
   "source": [
    "## 2. Basic pull-push workflow"
   ]
  },
  {
   "cell_type": "markdown",
   "metadata": {},
   "source": [
    "<img src=\"images/pushpull.PNG\" alt=\"drawing\" width=\"300\"/>"
   ]
  },
  {
   "cell_type": "markdown",
   "metadata": {},
   "source": [
    "### Use this notebook as a guide (tutorial/talk.ipynb)\n",
    "\n",
    "- To obtain the hackathon repository, run in your git terminal\n",
    "\n",
    "    ```shell\n",
    "    $ git clone pypsa-meets-africa/pypsa-africa-hackathon\n",
    "    ```"
   ]
  },
  {
   "cell_type": "markdown",
   "metadata": {},
   "source": [
    "### Test it out by running the following steps\n",
    "\n",
    "1. Create a new repository in GitHub with a chosen name e.g. 'test'\n",
    "\n",
    "2. Setup a directory on your pc using the git terminal\n",
    "\n",
    "    ```shell\n",
    "    $ mkdir test\n",
    "    $ cd test \n",
    "    \n",
    "    ```\n",
    "\n",
    "\n",
    "3. Run the steps shown in your new repository on GitHub to connect online and local repository\n",
    "\n",
    "4. Make local changes by adding a file  ``` example.py```\n",
    "\n",
    "    ```shell\n",
    "    $ touch example.py\n",
    "    \n",
    "    ```\n",
    "\n",
    "5. Execute the following three commands to push the changes online\n",
    "\n",
    "    ```shell\n",
    "    $ git add example.py\n",
    "    $ git commit -m 'changes have been made'\n",
    "    $ git push\n",
    "\n",
    "    ```\n",
    "\n",
    "6. Check in the online repository that the changes have been received.\n"
   ]
  },
  {
   "cell_type": "markdown",
   "metadata": {},
   "source": [
    "## 3. Advanced workflow: 5 steps of code contribution"
   ]
  },
  {
   "cell_type": "markdown",
   "metadata": {},
   "source": [
    "__Problem:__ Implementation of features can interfere with other contributor's progress"
   ]
  },
  {
   "cell_type": "markdown",
   "metadata": {},
   "source": [
    "__Solution:__ Create your own copy of the repository (**forking**), make changes (**branching**) and proposing the changes to the maintainers of the original repositoy (**pull request**)"
   ]
  },
  {
   "cell_type": "markdown",
   "metadata": {},
   "source": [
    "<img src=\"images/forkpull.PNG\" alt=\"drawing\" width=\"500\"/>"
   ]
  },
  {
   "cell_type": "markdown",
   "metadata": {},
   "source": [
    "## 4. Hands-on test of workflow"
   ]
  },
  {
   "cell_type": "markdown",
   "metadata": {},
   "source": [
    "Take a look at the repository [https://github.com/LukasFrankenQ/github-tutorial](https://github.com/LukasFrankenQ/github-tutorial)"
   ]
  },
  {
   "cell_type": "markdown",
   "metadata": {},
   "source": [
    "The goal is to implement the ```summer()``` function using the 5 steps outlined above"
   ]
  },
  {
   "cell_type": "markdown",
   "metadata": {},
   "source": [
    "1. Fork a GitHub repository: navigate to a repository on GitHub and click the Fork button.\n",
    "\n",
    "\n",
    "2. Clone the **forked** repository locally: \n",
    "\n",
    "    ```shell\n",
    "    $ git clone <https_of_forked_version>",
    "\n",
    "    ```\n",
    "\n",
    "3. Add remote called “upstream” pointing to the original repository: \n",
    "\n",
    "    ```shell\n",
    "    $ git remote add upstream <https_of_forked_version>\n",
    "\n",
    "    ```\n",
    "4. Checkout a new branch (here called “new_feature”): \n",
    "\n",
    "    ```shell\n",
    "    $ git checkout -b new_feature\n",
    "\n",
    "    ```\n",
    "\n",
    "5. Make desired changes to the local repository on this branch.\n",
    "\n",
    "6. Pull new changes from remote: \n",
    "\n",
    "    ```shell\n",
    "    $ git checkout master\n",
    "    $ git pull upstream master\n",
    "    ``` \n",
    "    Sync dev branch: \n",
    "    \n",
    "    ```shell \n",
    "    $ git checkout new_feature\n",
    "    $ git merge master\n",
    "    ``` \n",
    "    Push changes to your remote repository: \n",
    "    \n",
    "    ```shell \n",
    "    $ git push origin new_feature\n",
    "    \n",
    "    ```\n",
    "\n",
    "7. Open a pull request on GitHub merging your changes with the upstream (original) repository.\n",
    "8. Once the pull request is accepted, you’ll want to pull those changes into your origin (forked repository). Change to master: \n",
    "\n",
    "    ```shell\n",
    "    $ git checkout master \n",
    "    ``` \n",
    "    and pull: \n",
    "    \n",
    "    ```shell \n",
    "    $ git pull upstream master\n",
    "\n",
    "    ```\n",
    "\n",
    "9. Delete your feature branch using the GitHub website or, delete the local branch: \n",
    "\n",
    "    ```shell\n",
    "    $ git branch -d new_feature\n",
    "    ``` \n",
    "    \n",
    "    and delete the remote: \n",
    "    \n",
    "    ```shell \n",
    "    $ git push origin --delete new_feature\n",
    "    ```\n",
    "\n",
    "\n",
    "(from [https://www.tomasbeuzen.com/post/git-fork-branch-pull/](https://www.tomasbeuzen.com/post/git-fork-branch-pull/))"
   ]
  },
  {
   "cell_type": "markdown",
   "metadata": {},
   "source": []
  }
 ],
 "metadata": {
  "interpreter": {
   "hash": "f9bef397ef5e7b2d367b3209d88d895d60e5cf9367d4dd0bd56847f579153646"
  },
  "kernelspec": {
   "display_name": "Python 3.8.0 64-bit",
   "language": "python",
   "name": "python3"
  },
  "language_info": {
   "codemirror_mode": {
    "name": "ipython",
    "version": 3
   },
   "file_extension": ".py",
   "mimetype": "text/x-python",
   "name": "python",
   "nbconvert_exporter": "python",
   "pygments_lexer": "ipython3",
   "version": "3.8.0"
  },
  "orig_nbformat": 4
 },
 "nbformat": 4,
 "nbformat_minor": 2
}
